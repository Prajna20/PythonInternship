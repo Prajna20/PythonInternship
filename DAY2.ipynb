{
  "nbformat": 4,
  "nbformat_minor": 0,
  "metadata": {
    "colab": {
      "name": "DAY2.ipynb",
      "provenance": [],
      "collapsed_sections": []
    },
    "kernelspec": {
      "name": "python3",
      "display_name": "Python 3"
    }
  },
  "cells": [
    {
      "cell_type": "code",
      "metadata": {
        "id": "VT0lHlkgfUm6",
        "colab_type": "code",
        "outputId": "e5ce1a68-cd08-4d98-e355-1d73fa4c2b70",
        "colab": {
          "base_uri": "https://localhost:8080/",
          "height": 185
        }
      },
      "source": [
        "for i in range(0,10): ###all numbers\n",
        "  print (i)"
      ],
      "execution_count": 0,
      "outputs": [
        {
          "output_type": "stream",
          "text": [
            "0\n",
            "1\n",
            "2\n",
            "3\n",
            "4\n",
            "5\n",
            "6\n",
            "7\n",
            "8\n",
            "9\n"
          ],
          "name": "stdout"
        }
      ]
    },
    {
      "cell_type": "code",
      "metadata": {
        "id": "TRw05ZkCfqbU",
        "colab_type": "code",
        "outputId": "ec84bf2e-fbf1-4891-bd6d-7cb686662be2",
        "colab": {
          "base_uri": "https://localhost:8080/",
          "height": 118
        }
      },
      "source": [
        "for i in range(0,11,2): ###even numbers\n",
        "  print (i)"
      ],
      "execution_count": 0,
      "outputs": [
        {
          "output_type": "stream",
          "text": [
            "0\n",
            "2\n",
            "4\n",
            "6\n",
            "8\n",
            "10\n"
          ],
          "name": "stdout"
        }
      ]
    },
    {
      "cell_type": "code",
      "metadata": {
        "id": "booUX5jEf6nQ",
        "colab_type": "code",
        "outputId": "67fe7ae2-55db-4bc9-9819-2d97fbd0995d",
        "colab": {
          "base_uri": "https://localhost:8080/",
          "height": 34
        }
      },
      "source": [
        "evens=[i for i in range(11) if i%2==0]  ###optimzation of above code,it will assume list start with 0,i%2=even numbers\n",
        "print (evens)"
      ],
      "execution_count": 0,
      "outputs": [
        {
          "output_type": "stream",
          "text": [
            "[0, 2, 4, 6, 8, 10]\n"
          ],
          "name": "stdout"
        }
      ]
    },
    {
      "cell_type": "code",
      "metadata": {
        "id": "wWrMvoLOhsrI",
        "colab_type": "code",
        "outputId": "e68c3a46-333c-4919-e925-f6d7d0d1554e",
        "colab": {
          "base_uri": "https://localhost:8080/",
          "height": 70
        }
      },
      "source": [
        "print(dir(list))\n",
        "evens.append(5)\n",
        "print(evens)"
      ],
      "execution_count": 0,
      "outputs": [
        {
          "output_type": "stream",
          "text": [
            "['__add__', '__class__', '__contains__', '__delattr__', '__delitem__', '__dir__', '__doc__', '__eq__', '__format__', '__ge__', '__getattribute__', '__getitem__', '__gt__', '__hash__', '__iadd__', '__imul__', '__init__', '__init_subclass__', '__iter__', '__le__', '__len__', '__lt__', '__mul__', '__ne__', '__new__', '__reduce__', '__reduce_ex__', '__repr__', '__reversed__', '__rmul__', '__setattr__', '__setitem__', '__sizeof__', '__str__', '__subclasshook__', 'append', 'clear', 'copy', 'count', 'extend', 'index', 'insert', 'pop', 'remove', 'reverse', 'sort']\n",
            "[0, 2, 4, 6, 8, 10, 5]\n"
          ],
          "name": "stdout"
        }
      ]
    },
    {
      "cell_type": "code",
      "metadata": {
        "id": "rF5VuYEeiD94",
        "colab_type": "code",
        "outputId": "dc1022c6-f10e-4850-b010-e216859d1aec",
        "colab": {
          "base_uri": "https://localhost:8080/",
          "height": 34
        }
      },
      "source": [
        "print(evens.count)"
      ],
      "execution_count": 0,
      "outputs": [
        {
          "output_type": "stream",
          "text": [
            "<built-in method count of list object at 0x7fbbeae76bc8>\n"
          ],
          "name": "stdout"
        }
      ]
    },
    {
      "cell_type": "code",
      "metadata": {
        "id": "sd2uAL4xiXj0",
        "colab_type": "code",
        "outputId": "640aa559-49cd-4962-9184-4f754153c3b5",
        "colab": {
          "base_uri": "https://localhost:8080/",
          "height": 34
        }
      },
      "source": [
        "print(evens.reverse)"
      ],
      "execution_count": 0,
      "outputs": [
        {
          "output_type": "stream",
          "text": [
            "<built-in method reverse of list object at 0x7fbbeae76bc8>\n"
          ],
          "name": "stdout"
        }
      ]
    },
    {
      "cell_type": "code",
      "metadata": {
        "id": "h4t2hYgAiJBF",
        "colab_type": "code",
        "colab": {}
      },
      "source": [
        "evens.insert(3,12)"
      ],
      "execution_count": 0,
      "outputs": []
    },
    {
      "cell_type": "code",
      "metadata": {
        "id": "aaf_-XmPiOYB",
        "colab_type": "code",
        "outputId": "1c22abca-5538-4001-db46-3adfb94f3afa",
        "colab": {
          "base_uri": "https://localhost:8080/",
          "height": 34
        }
      },
      "source": [
        "print(evens)"
      ],
      "execution_count": 0,
      "outputs": [
        {
          "output_type": "stream",
          "text": [
            "[0, 2, 4, 12, 12, 6, 8, 10, 5]\n"
          ],
          "name": "stdout"
        }
      ]
    },
    {
      "cell_type": "code",
      "metadata": {
        "id": "uvo2s2mti_BW",
        "colab_type": "code",
        "outputId": "3bff8442-ee56-4e58-9ce3-3aa41fef7346",
        "colab": {
          "base_uri": "https://localhost:8080/",
          "height": 118
        }
      },
      "source": [
        "print(help(list.reverse))  ###reverse"
      ],
      "execution_count": 0,
      "outputs": [
        {
          "output_type": "stream",
          "text": [
            "Help on method_descriptor:\n",
            "\n",
            "reverse(...)\n",
            "    L.reverse() -- reverse *IN PLACE*\n",
            "\n",
            "None\n"
          ],
          "name": "stdout"
        }
      ]
    },
    {
      "cell_type": "code",
      "metadata": {
        "id": "iesWgqhMjIBR",
        "colab_type": "code",
        "outputId": "5c2de7c4-0c14-4dfe-8067-161d17ab6809",
        "colab": {
          "base_uri": "https://localhost:8080/",
          "height": 134
        }
      },
      "source": [
        "print(help(list.index))"
      ],
      "execution_count": 0,
      "outputs": [
        {
          "output_type": "stream",
          "text": [
            "Help on method_descriptor:\n",
            "\n",
            "index(...)\n",
            "    L.index(value, [start, [stop]]) -> integer -- return first index of value.\n",
            "    Raises ValueError if the value is not present.\n",
            "\n",
            "None\n"
          ],
          "name": "stdout"
        }
      ]
    },
    {
      "cell_type": "code",
      "metadata": {
        "id": "IPBtWxj8jQtP",
        "colab_type": "code",
        "outputId": "9833d621-2eff-4e17-e2fb-1694adf6385a",
        "colab": {
          "base_uri": "https://localhost:8080/",
          "height": 67
        }
      },
      "source": [
        "dic1={'a':1,'b':2,'c':3}   ###dictionary={}\n",
        "for key,value in dic1.items():\n",
        "  print(\"{} : {}\".format(key,value))"
      ],
      "execution_count": 0,
      "outputs": [
        {
          "output_type": "stream",
          "text": [
            "a : 1\n",
            "b : 2\n",
            "c : 3\n"
          ],
          "name": "stdout"
        }
      ]
    },
    {
      "cell_type": "code",
      "metadata": {
        "id": "Fvmgal9lj__y",
        "colab_type": "code",
        "outputId": "e41bf8a1-5635-41c8-ab9a-b8de9fbbfe03",
        "colab": {
          "base_uri": "https://localhost:8080/",
          "height": 34
        }
      },
      "source": [
        "simple={i:i**2 for i in range(10)}\n",
        "print(simple)"
      ],
      "execution_count": 0,
      "outputs": [
        {
          "output_type": "stream",
          "text": [
            "{0: 0, 1: 1, 2: 4, 3: 9, 4: 16, 5: 25, 6: 36, 7: 49, 8: 64, 9: 81}\n"
          ],
          "name": "stdout"
        }
      ]
    },
    {
      "cell_type": "code",
      "metadata": {
        "id": "AhhQUQl3kXhK",
        "colab_type": "code",
        "colab": {}
      },
      "source": [
        "simset={i for i in range(10)}  ###set==()"
      ],
      "execution_count": 0,
      "outputs": []
    },
    {
      "cell_type": "code",
      "metadata": {
        "id": "OWTVupGhkezW",
        "colab_type": "code",
        "outputId": "b06e57bc-bf76-4d59-fa0e-851314f23feb",
        "colab": {
          "base_uri": "https://localhost:8080/",
          "height": 34
        }
      },
      "source": [
        "print(simset)"
      ],
      "execution_count": 0,
      "outputs": [
        {
          "output_type": "stream",
          "text": [
            "{0, 1, 2, 3, 4, 5, 6, 7, 8, 9}\n"
          ],
          "name": "stdout"
        }
      ]
    },
    {
      "cell_type": "code",
      "metadata": {
        "id": "8CK613YzkiHu",
        "colab_type": "code",
        "outputId": "c8cbfa53-fa83-4a55-bac6-01525fefdfb2",
        "colab": {
          "base_uri": "https://localhost:8080/",
          "height": 34
        }
      },
      "source": [
        "even=[0,2,2,4,4,6,6,8,10,10]\n",
        "print(set(even))   ###typecasting"
      ],
      "execution_count": 0,
      "outputs": [
        {
          "output_type": "stream",
          "text": [
            "{0, 2, 4, 6, 8, 10}\n"
          ],
          "name": "stdout"
        }
      ]
    },
    {
      "cell_type": "code",
      "metadata": {
        "id": "KyARRdQGk7P-",
        "colab_type": "code",
        "outputId": "c40b5507-b505-45bb-e84a-c9510e36288f",
        "colab": {
          "base_uri": "https://localhost:8080/",
          "height": 370
        }
      },
      "source": [
        "import this ###  what is zen of python?"
      ],
      "execution_count": 0,
      "outputs": [
        {
          "output_type": "stream",
          "text": [
            "The Zen of Python, by Tim Peters\n",
            "\n",
            "Beautiful is better than ugly.\n",
            "Explicit is better than implicit.\n",
            "Simple is better than complex.\n",
            "Complex is better than complicated.\n",
            "Flat is better than nested.\n",
            "Sparse is better than dense.\n",
            "Readability counts.\n",
            "Special cases aren't special enough to break the rules.\n",
            "Although practicality beats purity.\n",
            "Errors should never pass silently.\n",
            "Unless explicitly silenced.\n",
            "In the face of ambiguity, refuse the temptation to guess.\n",
            "There should be one-- and preferably only one --obvious way to do it.\n",
            "Although that way may not be obvious at first unless you're Dutch.\n",
            "Now is better than never.\n",
            "Although never is often better than *right* now.\n",
            "If the implementation is hard to explain, it's a bad idea.\n",
            "If the implementation is easy to explain, it may be a good idea.\n",
            "Namespaces are one honking great idea -- let's do more of those!\n"
          ],
          "name": "stdout"
        }
      ]
    },
    {
      "cell_type": "code",
      "metadata": {
        "id": "Q2Ac7VRzljEC",
        "colab_type": "code",
        "outputId": "1a6246b8-7e6b-46a7-de45-a026a8056f86",
        "colab": {
          "base_uri": "https://localhost:8080/",
          "height": 34
        }
      },
      "source": [
        "x,*y,z=2,4,6,8\n",
        "x"
      ],
      "execution_count": 0,
      "outputs": [
        {
          "output_type": "execute_result",
          "data": {
            "text/plain": [
              "2"
            ]
          },
          "metadata": {
            "tags": []
          },
          "execution_count": 29
        }
      ]
    },
    {
      "cell_type": "code",
      "metadata": {
        "id": "sn-hHt70lrVw",
        "colab_type": "code",
        "outputId": "be8aeca9-5a92-45b7-be96-42b4dd266a19",
        "colab": {
          "base_uri": "https://localhost:8080/",
          "height": 34
        }
      },
      "source": [
        "z"
      ],
      "execution_count": 0,
      "outputs": [
        {
          "output_type": "execute_result",
          "data": {
            "text/plain": [
              "8"
            ]
          },
          "metadata": {
            "tags": []
          },
          "execution_count": 30
        }
      ]
    },
    {
      "cell_type": "code",
      "metadata": {
        "id": "Gs71Zi3CltAl",
        "colab_type": "code",
        "outputId": "7f842cab-4b9d-4851-c35f-f8ce704667d7",
        "colab": {
          "base_uri": "https://localhost:8080/",
          "height": 34
        }
      },
      "source": [
        "y"
      ],
      "execution_count": 0,
      "outputs": [
        {
          "output_type": "execute_result",
          "data": {
            "text/plain": [
              "[4, 6]"
            ]
          },
          "metadata": {
            "tags": []
          },
          "execution_count": 31
        }
      ]
    },
    {
      "cell_type": "code",
      "metadata": {
        "id": "Jxe6aFU9l-fE",
        "colab_type": "code",
        "colab": {}
      },
      "source": [
        "###merge 2 or more dictionary\n",
        "x={'u':1}\n",
        "y={'v':2}\n",
        "z={**x,**y,'w':4}"
      ],
      "execution_count": 0,
      "outputs": []
    },
    {
      "cell_type": "code",
      "metadata": {
        "id": "9CoxViH8mQl5",
        "colab_type": "code",
        "outputId": "f7d8b224-154d-4a72-a2a4-d0dca6efeabc",
        "colab": {
          "base_uri": "https://localhost:8080/",
          "height": 34
        }
      },
      "source": [
        "z"
      ],
      "execution_count": 0,
      "outputs": [
        {
          "output_type": "execute_result",
          "data": {
            "text/plain": [
              "{'u': 1, 'v': 2, 'w': 4}"
            ]
          },
          "metadata": {
            "tags": []
          },
          "execution_count": 33
        }
      ]
    },
    {
      "cell_type": "code",
      "metadata": {
        "id": "7w-nRs2gmlkT",
        "colab_type": "code",
        "outputId": "cba6fc00-6437-4825-e607-415f1551b509",
        "colab": {
          "base_uri": "https://localhost:8080/",
          "height": 34
        }
      },
      "source": [
        "###sorting tuple only sorts variables\n",
        "x={'a':5,'c':3,'b':9}\n",
        "sorted(x.items())"
      ],
      "execution_count": 0,
      "outputs": [
        {
          "output_type": "execute_result",
          "data": {
            "text/plain": [
              "[('a', 5), ('b', 9), ('c', 3)]"
            ]
          },
          "metadata": {
            "tags": []
          },
          "execution_count": 38
        }
      ]
    },
    {
      "cell_type": "code",
      "metadata": {
        "id": "2OJw8ZkjnFYe",
        "colab_type": "code",
        "outputId": "7f7e8d89-7a0e-4a0b-c3dd-234c05629fc1",
        "colab": {
          "base_uri": "https://localhost:8080/",
          "height": 34
        }
      },
      "source": [
        "###sorts the value not variables\n",
        "sorted(x.items(),key =lambda item :item[1])"
      ],
      "execution_count": 0,
      "outputs": [
        {
          "output_type": "execute_result",
          "data": {
            "text/plain": [
              "[('c', 3), ('a', 5), ('b', 9)]"
            ]
          },
          "metadata": {
            "tags": []
          },
          "execution_count": 39
        }
      ]
    },
    {
      "cell_type": "code",
      "metadata": {
        "id": "txIyT4zUnyBC",
        "colab_type": "code",
        "outputId": "85ca0ef9-c9d4-4988-fd7a-56b74b717a94",
        "colab": {
          "base_uri": "https://localhost:8080/",
          "height": 34
        }
      },
      "source": [
        "import datetime\n",
        "datetime.datetime.now()"
      ],
      "execution_count": 0,
      "outputs": [
        {
          "output_type": "execute_result",
          "data": {
            "text/plain": [
              "datetime.datetime(2020, 6, 2, 10, 42, 47, 200143)"
            ]
          },
          "metadata": {
            "tags": []
          },
          "execution_count": 42
        }
      ]
    },
    {
      "cell_type": "code",
      "metadata": {
        "id": "fYAJy0QRn_kg",
        "colab_type": "code",
        "outputId": "3e05619b-70cb-4be5-a883-12a66c6f8550",
        "colab": {
          "base_uri": "https://localhost:8080/",
          "height": 34
        }
      },
      "source": [
        "!date"
      ],
      "execution_count": 0,
      "outputs": [
        {
          "output_type": "stream",
          "text": [
            "Tue Jun  2 10:42:39 UTC 2020\n"
          ],
          "name": "stdout"
        }
      ]
    },
    {
      "cell_type": "code",
      "metadata": {
        "id": "y_6sBrOQoJRZ",
        "colab_type": "code",
        "outputId": "b653873d-91a8-4d04-fd59-a426022270a3",
        "colab": {
          "base_uri": "https://localhost:8080/",
          "height": 151
        }
      },
      "source": [
        "!cal"
      ],
      "execution_count": 0,
      "outputs": [
        {
          "output_type": "stream",
          "text": [
            "     June 2020        \n",
            "Su Mo Tu We Th Fr Sa  \n",
            "    1 \u001b[7m 2\u001b[m  3  4  5  6  \n",
            " 7  8  9 10 11 12 13  \n",
            "14 15 16 17 18 19 20  \n",
            "21 22 23 24 25 26 27  \n",
            "28 29 30              \n",
            "                      \n"
          ],
          "name": "stdout"
        }
      ]
    },
    {
      "cell_type": "code",
      "metadata": {
        "id": "AB89iJJyoNL7",
        "colab_type": "code",
        "outputId": "7b6cb749-f799-4205-8752-e8854f00b7ee",
        "colab": {
          "base_uri": "https://localhost:8080/",
          "height": 34
        }
      },
      "source": [
        "!pwd"
      ],
      "execution_count": 0,
      "outputs": [
        {
          "output_type": "stream",
          "text": [
            "/content\n"
          ],
          "name": "stdout"
        }
      ]
    },
    {
      "cell_type": "code",
      "metadata": {
        "id": "38DIn69wocdQ",
        "colab_type": "code",
        "outputId": "df795cf3-ca4b-483d-e6a5-e4e01f3ce22f",
        "colab": {
          "base_uri": "https://localhost:8080/",
          "height": 34
        }
      },
      "source": [
        "###combining tuple to dictionary using zip\n",
        "students=[\"Prajna\",\"Prathvi\",\"Prathiksha\"]\n",
        "marks=[99,96,99]\n",
        "dicts=dict(zip(students,marks))\n",
        "print(dicts)"
      ],
      "execution_count": 0,
      "outputs": [
        {
          "output_type": "stream",
          "text": [
            "{'Prajna': 99, 'Prathvi': 96, 'Prathiksha': 99}\n"
          ],
          "name": "stdout"
        }
      ]
    },
    {
      "cell_type": "code",
      "metadata": {
        "id": "8mdmdngypAYu",
        "colab_type": "code",
        "outputId": "c7b24c02-193d-4d15-8bf6-062f41b89f19",
        "colab": {
          "base_uri": "https://localhost:8080/",
          "height": 34
        }
      },
      "source": [
        "#generator\n",
        "import time\n",
        "t1=time.clock()\n",
        "sum((i*i for i in range(1,10000000)))\n",
        "t2=time.clock()\n",
        "time_diff=t2-t1\n",
        "print(f\"it took{time_diff} secs to execute this method\") ###twig"
      ],
      "execution_count": 0,
      "outputs": [
        {
          "output_type": "stream",
          "text": [
            "it took0.9840149999999994 secs to execute this method\n"
          ],
          "name": "stdout"
        }
      ]
    },
    {
      "cell_type": "code",
      "metadata": {
        "id": "-dykcYHTqXbS",
        "colab_type": "code",
        "outputId": "d29bd8cc-929b-4e66-eb78-367e91db8ebe",
        "colab": {
          "base_uri": "https://localhost:8080/",
          "height": 205
        }
      },
      "source": [
        "!pip install emoji"
      ],
      "execution_count": 0,
      "outputs": [
        {
          "output_type": "stream",
          "text": [
            "Collecting emoji\n",
            "\u001b[?25l  Downloading https://files.pythonhosted.org/packages/40/8d/521be7f0091fe0f2ae690cc044faf43e3445e0ff33c574eae752dd7e39fa/emoji-0.5.4.tar.gz (43kB)\n",
            "\r\u001b[K     |███████▌                        | 10kB 19.2MB/s eta 0:00:01\r\u001b[K     |███████████████                 | 20kB 1.7MB/s eta 0:00:01\r\u001b[K     |██████████████████████▋         | 30kB 2.2MB/s eta 0:00:01\r\u001b[K     |██████████████████████████████▏ | 40kB 2.5MB/s eta 0:00:01\r\u001b[K     |████████████████████████████████| 51kB 1.6MB/s \n",
            "\u001b[?25hBuilding wheels for collected packages: emoji\n",
            "  Building wheel for emoji (setup.py) ... \u001b[?25l\u001b[?25hdone\n",
            "  Created wheel for emoji: filename=emoji-0.5.4-cp36-none-any.whl size=42176 sha256=2414accad85dd91d817309773c4f464e7359479c5cb763d8bc74cd8c567a822e\n",
            "  Stored in directory: /root/.cache/pip/wheels/2a/a9/0a/4f8e8cce8074232aba240caca3fade315bb49fac68808d1a9c\n",
            "Successfully built emoji\n",
            "Installing collected packages: emoji\n",
            "Successfully installed emoji-0.5.4\n"
          ],
          "name": "stdout"
        }
      ]
    },
    {
      "cell_type": "code",
      "metadata": {
        "id": "-skAVGMlqfJg",
        "colab_type": "code",
        "outputId": "9b5fbc3c-39eb-40b6-916f-2c108481f624",
        "colab": {
          "base_uri": "https://localhost:8080/",
          "height": 34
        }
      },
      "source": [
        "###to get emojis\n",
        "from emoji import emojize \n",
        "print(emojize(\":thumbs_up:\")) ##these names are unicode"
      ],
      "execution_count": 0,
      "outputs": [
        {
          "output_type": "stream",
          "text": [
            "👍\n"
          ],
          "name": "stdout"
        }
      ]
    },
    {
      "cell_type": "code",
      "metadata": {
        "id": "lxMWTQJZq3RY",
        "colab_type": "code",
        "outputId": "2424a9f8-7882-48af-ed9f-51d95952aeae",
        "colab": {
          "base_uri": "https://localhost:8080/",
          "height": 34
        }
      },
      "source": [
        "from emoji import emojize \n",
        "print(emojize(\":winking_face:\"))"
      ],
      "execution_count": 0,
      "outputs": [
        {
          "output_type": "stream",
          "text": [
            "😉\n"
          ],
          "name": "stdout"
        }
      ]
    },
    {
      "cell_type": "code",
      "metadata": {
        "id": "z9Ml6m6XrD8D",
        "colab_type": "code",
        "outputId": "533293e7-ebec-4ca7-e6dc-0466c23b17dc",
        "colab": {
          "base_uri": "https://localhost:8080/",
          "height": 34
        }
      },
      "source": [
        "print(emojize(\":smiling_face:\"))"
      ],
      "execution_count": 0,
      "outputs": [
        {
          "output_type": "stream",
          "text": [
            "☺\n"
          ],
          "name": "stdout"
        }
      ]
    },
    {
      "cell_type": "code",
      "metadata": {
        "id": "j9DednkKrVoG",
        "colab_type": "code",
        "outputId": "10b156b8-e67d-43fa-b923-872012744ad1",
        "colab": {
          "base_uri": "https://localhost:8080/",
          "height": 50
        }
      },
      "source": [
        "!pip install geopy"
      ],
      "execution_count": 0,
      "outputs": [
        {
          "output_type": "stream",
          "text": [
            "Requirement already satisfied: geopy in /usr/local/lib/python3.6/dist-packages (1.17.0)\n",
            "Requirement already satisfied: geographiclib<2,>=1.49 in /usr/local/lib/python3.6/dist-packages (from geopy) (1.50)\n"
          ],
          "name": "stdout"
        }
      ]
    },
    {
      "cell_type": "code",
      "metadata": {
        "id": "k2buP4j2rtHI",
        "colab_type": "code",
        "outputId": "1c06fa2c-2ad0-4a39-a2c5-2e91a9d5c51b",
        "colab": {
          "base_uri": "https://localhost:8080/",
          "height": 50
        }
      },
      "source": [
        "from geopy.geocoders import Nominatim\n",
        "locator=Nominatim(user_agent='myGecoder')\n",
        "location=locator.geocode(\"Nitte\")\n",
        "print('Latitude={},Longitude={}'.format(location.latitude,location.longitude))\n",
        "print(location.address)"
      ],
      "execution_count": 0,
      "outputs": [
        {
          "output_type": "stream",
          "text": [
            "Latitude=13.1821507,Longitude=74.9347608\n",
            "Nitte, Karkala taluk, Udupi district, Karnataka, India\n"
          ],
          "name": "stdout"
        }
      ]
    },
    {
      "cell_type": "code",
      "metadata": {
        "id": "9e1_XgFetUAM",
        "colab_type": "code",
        "outputId": "7dd97116-0904-40ec-e600-7a2efecab820",
        "colab": {
          "base_uri": "https://localhost:8080/",
          "height": 440
        }
      },
      "source": [
        "!pip install howdoi"
      ],
      "execution_count": 0,
      "outputs": [
        {
          "output_type": "stream",
          "text": [
            "Collecting howdoi\n",
            "  Downloading https://files.pythonhosted.org/packages/03/db/c9b5bb64adac16b0feab7924fb1134ce88bc38f7af4e74aca27c48de26df/howdoi-1.2.1.tar.gz\n",
            "Collecting pyquery\n",
            "  Downloading https://files.pythonhosted.org/packages/78/43/95d42e386c61cb639d1a0b94f0c0b9f0b7d6b981ad3c043a836c8b5bc68b/pyquery-1.4.1-py2.py3-none-any.whl\n",
            "Requirement already satisfied: pygments in /usr/local/lib/python3.6/dist-packages (from howdoi) (2.1.3)\n",
            "Requirement already satisfied: requests in /usr/local/lib/python3.6/dist-packages (from howdoi) (2.23.0)\n",
            "Collecting cachelib\n",
            "  Downloading https://files.pythonhosted.org/packages/fe/7d/c2d3389034581d077db304c9eb6575ce7e78e36c7e7446c7397820c0c1c4/cachelib-0.1-py3-none-any.whl\n",
            "Collecting appdirs\n",
            "  Downloading https://files.pythonhosted.org/packages/3b/00/2344469e2084fb287c2e0b57b72910309874c3245463acd6cf5e3db69324/appdirs-1.4.4-py2.py3-none-any.whl\n",
            "Requirement already satisfied: lxml>=2.1 in /usr/local/lib/python3.6/dist-packages (from pyquery->howdoi) (4.2.6)\n",
            "Collecting cssselect>0.7.9\n",
            "  Downloading https://files.pythonhosted.org/packages/3b/d4/3b5c17f00cce85b9a1e6f91096e1cc8e8ede2e1be8e96b87ce1ed09e92c5/cssselect-1.1.0-py2.py3-none-any.whl\n",
            "Requirement already satisfied: certifi>=2017.4.17 in /usr/local/lib/python3.6/dist-packages (from requests->howdoi) (2020.4.5.1)\n",
            "Requirement already satisfied: urllib3!=1.25.0,!=1.25.1,<1.26,>=1.21.1 in /usr/local/lib/python3.6/dist-packages (from requests->howdoi) (1.24.3)\n",
            "Requirement already satisfied: chardet<4,>=3.0.2 in /usr/local/lib/python3.6/dist-packages (from requests->howdoi) (3.0.4)\n",
            "Requirement already satisfied: idna<3,>=2.5 in /usr/local/lib/python3.6/dist-packages (from requests->howdoi) (2.9)\n",
            "Building wheels for collected packages: howdoi\n",
            "  Building wheel for howdoi (setup.py) ... \u001b[?25l\u001b[?25hdone\n",
            "  Created wheel for howdoi: filename=howdoi-1.2.1-cp36-none-any.whl size=9541 sha256=6bdb5b6482df9d710e882c3e5be23778c19c4c3369260f582ddb0dd440a6a5c7\n",
            "  Stored in directory: /root/.cache/pip/wheels/0f/48/7e/afc275bb678333796185d8efcffa3f3dc9dbd4984daf487b73\n",
            "Successfully built howdoi\n",
            "Installing collected packages: cssselect, pyquery, cachelib, appdirs, howdoi\n",
            "Successfully installed appdirs-1.4.4 cachelib-0.1 cssselect-1.1.0 howdoi-1.2.1 pyquery-1.4.1\n"
          ],
          "name": "stdout"
        }
      ]
    },
    {
      "cell_type": "code",
      "metadata": {
        "id": "2tBdFD9Stb7O",
        "colab_type": "code",
        "outputId": "ead7d046-1920-49c7-b070-42be1034dc98",
        "colab": {
          "base_uri": "https://localhost:8080/",
          "height": 84
        }
      },
      "source": [
        "!howdoi for loop in java"
      ],
      "execution_count": 0,
      "outputs": [
        {
          "output_type": "stream",
          "text": [
            "for(String string : mCha) // line 1\n",
            "{\n",
            "  // loop working\n",
            "}\n"
          ],
          "name": "stdout"
        }
      ]
    },
    {
      "cell_type": "code",
      "metadata": {
        "id": "T1y0aRggtq4d",
        "colab_type": "code",
        "outputId": "9ae745dc-d970-491c-9aaf-186a4c41b9f2",
        "colab": {
          "base_uri": "https://localhost:8080/",
          "height": 403
        }
      },
      "source": [
        "!howdoi send a mail"
      ],
      "execution_count": 0,
      "outputs": [
        {
          "output_type": "stream",
          "text": [
            "# Import smtplib for the actual sending function\n",
            "import smtplib\n",
            "\n",
            "# Import the email modules we'll need\n",
            "from email.mime.text import MIMEText\n",
            "\n",
            "# Open a plain text file for reading.  For this example, assume that\n",
            "# the text file contains only ASCII characters.\n",
            "with open(textfile, 'rb') as fp:\n",
            "    # Create a text/plain message\n",
            "    msg = MIMEText(fp.read())\n",
            "\n",
            "# me == the sender's email address\n",
            "# you == the recipient's email address\n",
            "msg['Subject'] = 'The contents of %s' % textfile\n",
            "msg['From'] = me\n",
            "msg['To'] = you\n",
            "\n",
            "# Send the message via our own SMTP server, but don't include the\n",
            "# envelope header.\n",
            "s = smtplib.SMTP('localhost')\n",
            "s.sendmail(me, [you], msg.as_string())\n",
            "s.quit()\n"
          ],
          "name": "stdout"
        }
      ]
    },
    {
      "cell_type": "code",
      "metadata": {
        "id": "E0Q0bGcqt-90",
        "colab_type": "code",
        "outputId": "223fa1fe-3004-4978-f34a-b1fe0d82fee6",
        "colab": {
          "base_uri": "https://localhost:8080/",
          "height": 50
        }
      },
      "source": [
        "x=[1,2,3]\n",
        "y=map(lambda x:x+1,x)\n",
        "print(y)\n",
        "print(x)"
      ],
      "execution_count": 0,
      "outputs": [
        {
          "output_type": "stream",
          "text": [
            "<map object at 0x7fbbea753908>\n",
            "[1, 2, 3]\n"
          ],
          "name": "stdout"
        }
      ]
    },
    {
      "cell_type": "code",
      "metadata": {
        "id": "xHO3g126uSxk",
        "colab_type": "code",
        "outputId": "499898f6-df97-4a81-d045-4344bb574a44",
        "colab": {
          "base_uri": "https://localhost:8080/",
          "height": 50
        }
      },
      "source": [
        "x=[1,2,3]\n",
        "y=map(lambda x:x+1,x)\n",
        "print(list(x))\n",
        "print(list(y))"
      ],
      "execution_count": 0,
      "outputs": [
        {
          "output_type": "stream",
          "text": [
            "[1, 2, 3]\n",
            "[2, 3, 4]\n"
          ],
          "name": "stdout"
        }
      ]
    },
    {
      "cell_type": "code",
      "metadata": {
        "id": "6ZnzG2b8uf4y",
        "colab_type": "code",
        "outputId": "78b528e6-31df-4e3c-d58d-05831a8ea57b",
        "colab": {
          "base_uri": "https://localhost:8080/",
          "height": 34
        }
      },
      "source": [
        "n1=[1,2,3]\n",
        "n2=[4,5,6]\n",
        "res=map(lambda x,y:x+y,n1,n2)\n",
        "print(list(res))"
      ],
      "execution_count": 0,
      "outputs": [
        {
          "output_type": "stream",
          "text": [
            "[5, 7, 9]\n"
          ],
          "name": "stdout"
        }
      ]
    }
  ]
}